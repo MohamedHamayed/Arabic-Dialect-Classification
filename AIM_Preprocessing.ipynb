{
 "cells": [
  {
   "cell_type": "code",
   "execution_count": 1,
   "metadata": {},
   "outputs": [],
   "source": [
    "# !git clone https://github.com/aub-mind/arabert.git"
   ]
  },
  {
   "cell_type": "code",
   "execution_count": 2,
   "metadata": {},
   "outputs": [],
   "source": [
    "import pandas as pd\n",
    "import numpy as np\n",
    "from arabert.preprocess import ArabertPreprocessor"
   ]
  },
  {
   "cell_type": "code",
   "execution_count": 3,
   "metadata": {},
   "outputs": [],
   "source": [
    "df = pd.read_csv('RawData/raw_data.csv',sep='\\t',encoding='utf-8')"
   ]
  },
  {
   "cell_type": "code",
   "execution_count": 4,
   "metadata": {},
   "outputs": [
    {
     "data": {
      "text/html": [
       "<div>\n",
       "<style scoped>\n",
       "    .dataframe tbody tr th:only-of-type {\n",
       "        vertical-align: middle;\n",
       "    }\n",
       "\n",
       "    .dataframe tbody tr th {\n",
       "        vertical-align: top;\n",
       "    }\n",
       "\n",
       "    .dataframe thead th {\n",
       "        text-align: right;\n",
       "    }\n",
       "</style>\n",
       "<table border=\"1\" class=\"dataframe\">\n",
       "  <thead>\n",
       "    <tr style=\"text-align: right;\">\n",
       "      <th></th>\n",
       "      <th>id</th>\n",
       "      <th>text</th>\n",
       "      <th>dialect</th>\n",
       "    </tr>\n",
       "  </thead>\n",
       "  <tbody>\n",
       "    <tr>\n",
       "      <th>127891</th>\n",
       "      <td>588606150645403648</td>\n",
       "      <td>من يومين حطيت نداء مشان الطفل مازن المبارك و ه...</td>\n",
       "      <td>SY</td>\n",
       "    </tr>\n",
       "    <tr>\n",
       "      <th>373957</th>\n",
       "      <td>1172929318244278272</td>\n",
       "      <td>@zyt0nh_ سلامات زيتونه ربي يجبر بخاطرك 😊🌹</td>\n",
       "      <td>OM</td>\n",
       "    </tr>\n",
       "    <tr>\n",
       "      <th>198809</th>\n",
       "      <td>1111750980775882752</td>\n",
       "      <td>@Fujgrr اضربوهم بالجزمه لاترحمونهم \\n\\nامسحوا ...</td>\n",
       "      <td>SA</td>\n",
       "    </tr>\n",
       "    <tr>\n",
       "      <th>91624</th>\n",
       "      <td>1130638687396651008</td>\n",
       "      <td>ممنوع ، بروح فيها لو شافو بياكل https://t.co/R...</td>\n",
       "      <td>PL</td>\n",
       "    </tr>\n",
       "    <tr>\n",
       "      <th>137608</th>\n",
       "      <td>500707718563651584</td>\n",
       "      <td>@arooj098 ع فكرة بتخوفي بلد انت ..... :-p ... ...</td>\n",
       "      <td>SY</td>\n",
       "    </tr>\n",
       "  </tbody>\n",
       "</table>\n",
       "</div>"
      ],
      "text/plain": [
       "                         id  \\\n",
       "127891   588606150645403648   \n",
       "373957  1172929318244278272   \n",
       "198809  1111750980775882752   \n",
       "91624   1130638687396651008   \n",
       "137608   500707718563651584   \n",
       "\n",
       "                                                     text dialect  \n",
       "127891  من يومين حطيت نداء مشان الطفل مازن المبارك و ه...      SY  \n",
       "373957          @zyt0nh_ سلامات زيتونه ربي يجبر بخاطرك 😊🌹      OM  \n",
       "198809  @Fujgrr اضربوهم بالجزمه لاترحمونهم \\n\\nامسحوا ...      SA  \n",
       "91624   ممنوع ، بروح فيها لو شافو بياكل https://t.co/R...      PL  \n",
       "137608  @arooj098 ع فكرة بتخوفي بلد انت ..... :-p ... ...      SY  "
      ]
     },
     "execution_count": 4,
     "metadata": {},
     "output_type": "execute_result"
    }
   ],
   "source": [
    "df.sample(5)"
   ]
  },
  {
   "cell_type": "code",
   "execution_count": 5,
   "metadata": {},
   "outputs": [
    {
     "name": "stderr",
     "output_type": "stream",
     "text": [
      "WARNING:root:The selected model_name is trained on emojis, but keep_emojis was set to False!\n"
     ]
    }
   ],
   "source": [
    "model_name = \"aubmindlab/bert-base-arabertv02-twitter\"\n",
    "arabert_prep = ArabertPreprocessor(model_name=model_name, keep_emojis=False)"
   ]
  },
  {
   "cell_type": "code",
   "execution_count": 6,
   "metadata": {},
   "outputs": [],
   "source": [
    "def line_preprocessing(X, preprocessor):\n",
    "    lines = []\n",
    "\n",
    "    for line in X:\n",
    "        line_preprocessed = preprocessor.preprocess(line)\n",
    "        lines.append(line_preprocessed)\n",
    "\n",
    "    return lines"
   ]
  },
  {
   "cell_type": "code",
   "execution_count": 7,
   "metadata": {},
   "outputs": [],
   "source": [
    "df['preprocessed_text'] = line_preprocessing(df['text'], arabert_prep)"
   ]
  },
  {
   "cell_type": "code",
   "execution_count": 8,
   "metadata": {},
   "outputs": [
    {
     "data": {
      "text/html": [
       "<div>\n",
       "<style scoped>\n",
       "    .dataframe tbody tr th:only-of-type {\n",
       "        vertical-align: middle;\n",
       "    }\n",
       "\n",
       "    .dataframe tbody tr th {\n",
       "        vertical-align: top;\n",
       "    }\n",
       "\n",
       "    .dataframe thead th {\n",
       "        text-align: right;\n",
       "    }\n",
       "</style>\n",
       "<table border=\"1\" class=\"dataframe\">\n",
       "  <thead>\n",
       "    <tr style=\"text-align: right;\">\n",
       "      <th></th>\n",
       "      <th>id</th>\n",
       "      <th>text</th>\n",
       "      <th>dialect</th>\n",
       "      <th>preprocessed_text</th>\n",
       "    </tr>\n",
       "  </thead>\n",
       "  <tbody>\n",
       "    <tr>\n",
       "      <th>176221</th>\n",
       "      <td>1026394978887630848</td>\n",
       "      <td>@Ay__202 ترا لو أخذت حقك وماتنلام والله مو جريمة</td>\n",
       "      <td>JO</td>\n",
       "      <td>[مستخدم] ترا لو أخذت حقك وماتنلام والله مو جريمة</td>\n",
       "    </tr>\n",
       "    <tr>\n",
       "      <th>416667</th>\n",
       "      <td>1175129745106853888</td>\n",
       "      <td>@a__alomari ما اعتقد الاعب راح يستمر ما يودي ص...</td>\n",
       "      <td>AE</td>\n",
       "      <td>[مستخدم] ما اعتقد الاعب راح يستمر ما يودي صدقني</td>\n",
       "    </tr>\n",
       "    <tr>\n",
       "      <th>251376</th>\n",
       "      <td>1104270345211728000</td>\n",
       "      <td>@sh_r_f تعرف ان انا كنت هكتب في اخر التويتة ما...</td>\n",
       "      <td>EG</td>\n",
       "      <td>[مستخدم] تعرف ان انا كنت هكتب في اخر التويتة م...</td>\n",
       "    </tr>\n",
       "    <tr>\n",
       "      <th>212735</th>\n",
       "      <td>1168447863065628672</td>\n",
       "      <td>@abukarm11 احب السفر بس مدري شفيني اتصدد عنه 😭</td>\n",
       "      <td>SA</td>\n",
       "      <td>[مستخدم] احب السفر بس مدري شفيني اتصدد عنه</td>\n",
       "    </tr>\n",
       "    <tr>\n",
       "      <th>272405</th>\n",
       "      <td>1147209003044392960</td>\n",
       "      <td>@Marwa_4M مش هنختلف كتير ياستي 😂</td>\n",
       "      <td>EG</td>\n",
       "      <td>[مستخدم] مش هنختلف كتير ياستي</td>\n",
       "    </tr>\n",
       "  </tbody>\n",
       "</table>\n",
       "</div>"
      ],
      "text/plain": [
       "                         id  \\\n",
       "176221  1026394978887630848   \n",
       "416667  1175129745106853888   \n",
       "251376  1104270345211728000   \n",
       "212735  1168447863065628672   \n",
       "272405  1147209003044392960   \n",
       "\n",
       "                                                     text dialect  \\\n",
       "176221   @Ay__202 ترا لو أخذت حقك وماتنلام والله مو جريمة      JO   \n",
       "416667  @a__alomari ما اعتقد الاعب راح يستمر ما يودي ص...      AE   \n",
       "251376  @sh_r_f تعرف ان انا كنت هكتب في اخر التويتة ما...      EG   \n",
       "212735     @abukarm11 احب السفر بس مدري شفيني اتصدد عنه 😭      SA   \n",
       "272405                   @Marwa_4M مش هنختلف كتير ياستي 😂      EG   \n",
       "\n",
       "                                        preprocessed_text  \n",
       "176221   [مستخدم] ترا لو أخذت حقك وماتنلام والله مو جريمة  \n",
       "416667    [مستخدم] ما اعتقد الاعب راح يستمر ما يودي صدقني  \n",
       "251376  [مستخدم] تعرف ان انا كنت هكتب في اخر التويتة م...  \n",
       "212735         [مستخدم] احب السفر بس مدري شفيني اتصدد عنه  \n",
       "272405                      [مستخدم] مش هنختلف كتير ياستي  "
      ]
     },
     "execution_count": 8,
     "metadata": {},
     "output_type": "execute_result"
    }
   ],
   "source": [
    "df.sample(5)"
   ]
  },
  {
   "cell_type": "code",
   "execution_count": 9,
   "metadata": {},
   "outputs": [],
   "source": [
    "df.to_csv('PreprocessedData/preprocessed_data.csv',index = False, sep='\\t',encoding='utf-8')"
   ]
  },
  {
   "cell_type": "code",
   "execution_count": null,
   "metadata": {},
   "outputs": [],
   "source": []
  }
 ],
 "metadata": {
  "kernelspec": {
   "display_name": "Python 3",
   "language": "python",
   "name": "python3"
  },
  "language_info": {
   "codemirror_mode": {
    "name": "ipython",
    "version": 3
   },
   "file_extension": ".py",
   "mimetype": "text/x-python",
   "name": "python",
   "nbconvert_exporter": "python",
   "pygments_lexer": "ipython3",
   "version": "3.7.6"
  }
 },
 "nbformat": 4,
 "nbformat_minor": 4
}
