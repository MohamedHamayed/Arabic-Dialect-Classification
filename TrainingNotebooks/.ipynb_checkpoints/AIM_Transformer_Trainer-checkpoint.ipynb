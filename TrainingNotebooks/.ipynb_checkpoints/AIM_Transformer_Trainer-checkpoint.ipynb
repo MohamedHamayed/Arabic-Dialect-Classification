{
 "cells": [
  {
   "cell_type": "code",
   "execution_count": 1,
   "metadata": {},
   "outputs": [],
   "source": [
    "import pandas as pd\n",
    "import numpy as np\n",
    "import torch\n",
    "from datasets import load_metric\n",
    "from transformers import AutoTokenizer, BertForSequenceClassification, TrainingArguments, Trainer, TextClassificationPipeline\n",
    "from transformers.data.processors.utils import InputFeatures"
   ]
  },
  {
   "cell_type": "code",
   "execution_count": 2,
   "metadata": {},
   "outputs": [],
   "source": [
    "df = pd.read_csv('../PreprocessedData/preprocessed_data.csv',sep='\\t',encoding='utf-8')"
   ]
  },
  {
   "cell_type": "code",
   "execution_count": 3,
   "metadata": {},
   "outputs": [
    {
     "data": {
      "text/html": [
       "<div>\n",
       "<style scoped>\n",
       "    .dataframe tbody tr th:only-of-type {\n",
       "        vertical-align: middle;\n",
       "    }\n",
       "\n",
       "    .dataframe tbody tr th {\n",
       "        vertical-align: top;\n",
       "    }\n",
       "\n",
       "    .dataframe thead th {\n",
       "        text-align: right;\n",
       "    }\n",
       "</style>\n",
       "<table border=\"1\" class=\"dataframe\">\n",
       "  <thead>\n",
       "    <tr style=\"text-align: right;\">\n",
       "      <th></th>\n",
       "      <th>id</th>\n",
       "      <th>text</th>\n",
       "      <th>dialect</th>\n",
       "      <th>preprocessed_text</th>\n",
       "    </tr>\n",
       "  </thead>\n",
       "  <tbody>\n",
       "    <tr>\n",
       "      <th>28545</th>\n",
       "      <td>988849183967924224</td>\n",
       "      <td>جميل ان يكون عندك صديق يعرف نوع الهدية اللي تع...</td>\n",
       "      <td>LY</td>\n",
       "      <td>جميل ان يكون عندك صديق يعرف نوع الهدية اللي تع...</td>\n",
       "    </tr>\n",
       "    <tr>\n",
       "      <th>262672</th>\n",
       "      <td>1006911293805203584</td>\n",
       "      <td>@Bassant214 ربنا يقدرك كل مرة تكملي ومتكونش دي...</td>\n",
       "      <td>EG</td>\n",
       "      <td>[مستخدم] ربنا يقدرك كل مرة تكملي ومتكونش دي اخ...</td>\n",
       "    </tr>\n",
       "    <tr>\n",
       "      <th>406034</th>\n",
       "      <td>1090929201522376832</td>\n",
       "      <td>@AliAbuahmed49 @AJ85555 المعلق رخيص .. طاح في ...</td>\n",
       "      <td>AE</td>\n",
       "      <td>[مستخدم] [مستخدم] المعلق رخيص . . طاح في دولة ...</td>\n",
       "    </tr>\n",
       "    <tr>\n",
       "      <th>174982</th>\n",
       "      <td>1018901008792150016</td>\n",
       "      <td>عمر ذيل الكلب ما #بنعدل\\nولا في صاحبه،بنت عم، ...</td>\n",
       "      <td>JO</td>\n",
       "      <td>عمر ذيل الكلب ما # بنعدل ولا في صاحبه ، بنت عم...</td>\n",
       "    </tr>\n",
       "    <tr>\n",
       "      <th>431575</th>\n",
       "      <td>839604070251921408</td>\n",
       "      <td>@AbduMohd_21 ههه مبروكين انا كنت اشوف السيتي</td>\n",
       "      <td>AE</td>\n",
       "      <td>[مستخدم] هه مبروكين انا كنت اشوف السيتي</td>\n",
       "    </tr>\n",
       "  </tbody>\n",
       "</table>\n",
       "</div>"
      ],
      "text/plain": [
       "                         id  \\\n",
       "28545    988849183967924224   \n",
       "262672  1006911293805203584   \n",
       "406034  1090929201522376832   \n",
       "174982  1018901008792150016   \n",
       "431575   839604070251921408   \n",
       "\n",
       "                                                     text dialect  \\\n",
       "28545   جميل ان يكون عندك صديق يعرف نوع الهدية اللي تع...      LY   \n",
       "262672  @Bassant214 ربنا يقدرك كل مرة تكملي ومتكونش دي...      EG   \n",
       "406034  @AliAbuahmed49 @AJ85555 المعلق رخيص .. طاح في ...      AE   \n",
       "174982  عمر ذيل الكلب ما #بنعدل\\nولا في صاحبه،بنت عم، ...      JO   \n",
       "431575       @AbduMohd_21 ههه مبروكين انا كنت اشوف السيتي      AE   \n",
       "\n",
       "                                        preprocessed_text  \n",
       "28545   جميل ان يكون عندك صديق يعرف نوع الهدية اللي تع...  \n",
       "262672  [مستخدم] ربنا يقدرك كل مرة تكملي ومتكونش دي اخ...  \n",
       "406034  [مستخدم] [مستخدم] المعلق رخيص . . طاح في دولة ...  \n",
       "174982  عمر ذيل الكلب ما # بنعدل ولا في صاحبه ، بنت عم...  \n",
       "431575            [مستخدم] هه مبروكين انا كنت اشوف السيتي  "
      ]
     },
     "execution_count": 3,
     "metadata": {},
     "output_type": "execute_result"
    }
   ],
   "source": [
    "df.sample(5)"
   ]
  },
  {
   "cell_type": "code",
   "execution_count": 4,
   "metadata": {},
   "outputs": [],
   "source": [
    "df.dropna(subset=['preprocessed_text'],inplace=True)"
   ]
  },
  {
   "cell_type": "code",
   "execution_count": 5,
   "metadata": {},
   "outputs": [],
   "source": [
    "model_name = \"aubmindlab/bert-base-arabertv02-twitter\"\n",
    "arabert_tokenizer = AutoTokenizer.from_pretrained(model_name)"
   ]
  },
  {
   "cell_type": "code",
   "execution_count": 6,
   "metadata": {},
   "outputs": [],
   "source": [
    "class bert_dataset(torch.utils.data.Dataset):\n",
    "    def __init__(self, text_list, classes_list, tokenizer):\n",
    "        self.features = []\n",
    "        self.labels = []\n",
    "        self.text_list = text_list\n",
    "        self.classes_list = classes_list\n",
    "        self.tokenizer = tokenizer\n",
    "        self.max_len = 0\n",
    "        self.create_dataset()\n",
    "\n",
    "    def __getitem__(self,index):\n",
    "        input_ids = self.features[index]\n",
    "        attention_mask = [1] * len(input_ids)\n",
    "        padding_length = self.max_len - len(input_ids)\n",
    "        input_ids = ([self.tokenizer.pad_token_id] * padding_length) + input_ids\n",
    "        attention_mask = ([0] * padding_length) + attention_mask    \n",
    "\n",
    "        return InputFeatures(input_ids=input_ids, attention_mask=attention_mask, label=self.labels.iloc[index])\n",
    "\n",
    "    def __len__(self):\n",
    "        return len(self.features)\n",
    "\n",
    "    def create_dataset(self):\n",
    "        lines = []\n",
    "  \n",
    "        for line in self.text_list:\n",
    "            line_tokenized = self.tokenizer.encode(line)\n",
    "            self.max_len = max(self.max_len,len(line_tokenized))\n",
    "            lines.append(line_tokenized)\n",
    "        self.features = lines\n",
    "        self.labels = pd.get_dummies(self.classes_list)"
   ]
  },
  {
   "cell_type": "code",
   "execution_count": 7,
   "metadata": {},
   "outputs": [],
   "source": [
    "dataset = bert_dataset(df['preprocessed_text'], df['dialect'], arabert_tokenizer)\n",
    "\n",
    "train_len = int(len(dataset)*0.9)\n",
    "test_len = len(dataset) - train_len\n",
    "\n",
    "train_set, test_set = torch.utils.data.random_split(dataset, [train_len, test_len], generator=torch.Generator().manual_seed(42))"
   ]
  },
  {
   "cell_type": "code",
   "execution_count": 8,
   "metadata": {},
   "outputs": [],
   "source": [
    "metric = load_metric(\"accuracy\")\n",
    "\n",
    "def compute_metrics(eval_pred):\n",
    "    logits, labels = eval_pred\n",
    "    predictions = np.argmax(logits, axis=-1)\n",
    "    references = np.argmax(labels, axis=1)\n",
    "    return metric.compute(predictions=predictions, references=references)"
   ]
  },
  {
   "cell_type": "code",
   "execution_count": 9,
   "metadata": {},
   "outputs": [
    {
     "name": "stderr",
     "output_type": "stream",
     "text": [
      "Some weights of the model checkpoint at aubmindlab/bert-base-arabertv02-twitter were not used when initializing BertForSequenceClassification: ['cls.predictions.bias', 'cls.predictions.transform.dense.weight', 'cls.predictions.transform.dense.bias', 'cls.predictions.decoder.bias', 'cls.predictions.decoder.weight', 'cls.predictions.transform.LayerNorm.weight', 'cls.predictions.transform.LayerNorm.bias']\n",
      "- This IS expected if you are initializing BertForSequenceClassification from the checkpoint of a model trained on another task or with another architecture (e.g. initializing a BertForSequenceClassification model from a BertForPreTraining model).\n",
      "- This IS NOT expected if you are initializing BertForSequenceClassification from the checkpoint of a model that you expect to be exactly identical (initializing a BertForSequenceClassification model from a BertForSequenceClassification model).\n",
      "Some weights of BertForSequenceClassification were not initialized from the model checkpoint at aubmindlab/bert-base-arabertv02-twitter and are newly initialized: ['classifier.bias', 'bert.pooler.dense.bias', 'bert.pooler.dense.weight', 'classifier.weight']\n",
      "You should probably TRAIN this model on a down-stream task to be able to use it for predictions and inference.\n"
     ]
    }
   ],
   "source": [
    "model = BertForSequenceClassification.from_pretrained(model_name, num_labels=18)\n",
    "\n",
    "device = torch.device('cuda' if torch.cuda.is_available() else 'cpu')\n",
    "model.to(device)\n",
    "\n",
    "training_args = TrainingArguments(\n",
    "    output_dir = \"test_trainer\",\n",
    "    save_strategy = 'epoch',\n",
    "    overwrite_output_dir = True,\n",
    "    num_train_epochs = 3,\n",
    "    evaluation_strategy=\"epoch\",\n",
    "    per_device_train_batch_size = 4,\n",
    "    per_device_eval_batch_size = 4,\n",
    "    seed = 42\n",
    ")\n",
    "\n",
    "trainer = Trainer(\n",
    "    model = model,\n",
    "    args = training_args,\n",
    "    train_dataset = train_set,\n",
    "    eval_dataset = test_set,\n",
    "    compute_metrics = compute_metrics\n",
    ")"
   ]
  },
  {
   "cell_type": "code",
   "execution_count": null,
   "metadata": {},
   "outputs": [],
   "source": [
    "trainer.train()"
   ]
  },
  {
   "cell_type": "code",
   "execution_count": null,
   "metadata": {},
   "outputs": [],
   "source": [
    "# trainer.save_model('../models/transformer_model')\n",
    "# model = BertForSequenceClassification.from_pretrained(\"../models/transformer_model\")\n",
    "torch.save(model.state_dict(), '../models/transformer_wts.pth')"
   ]
  },
  {
   "cell_type": "code",
   "execution_count": 13,
   "metadata": {},
   "outputs": [
    {
     "data": {
      "text/plain": [
       "<All keys matched successfully>"
      ]
     },
     "execution_count": 13,
     "metadata": {},
     "output_type": "execute_result"
    }
   ],
   "source": [
    "model.load_state_dict(torch.load('../models/transformer_wts.pth'))"
   ]
  },
  {
   "cell_type": "code",
   "execution_count": 22,
   "metadata": {},
   "outputs": [
    {
     "name": "stdout",
     "output_type": "stream",
     "text": [
      "SY\n"
     ]
    }
   ],
   "source": [
    "model.to('cpu')\n",
    "pipe = TextClassificationPipeline(model=model, tokenizer=arabert_tokenizer)\n",
    "\n",
    "label_dict = {'LABEL_0' : 'AE', 'LABEL_1' : 'BH', 'LABEL_2' : 'DZ', 'LABEL_3' :\t'EG', 'LABEL_4' : 'IQ', 'LABEL_5' : 'JO', 'LABEL_6' :\t'KW', 'LABEL_7' :\t'LB', 'LABEL_8' : 'LY',\n",
    "              'LABEL_9'\t: 'MA', 'LABEL_10' : 'OM', 'LABEL_11' : 'PL', 'LABEL_12' :'QA', 'LABEL_13' :\t'SA', 'LABEL_14' :\t'SD', 'LABEL_15' :\t'SY', 'LABEL_16' : 'TN', 'LABEL_17' : 'YE'}\n",
    "\n",
    "s = 'يخرب بيت عيونك يا صوفيا شو حلوين'         \n",
    "\n",
    "for pred in pipe(s):\n",
    "    print(label_dict[pred['label']])"
   ]
  },
  {
   "cell_type": "code",
   "execution_count": null,
   "metadata": {},
   "outputs": [],
   "source": []
  }
 ],
 "metadata": {
  "kernelspec": {
   "display_name": "Python 3",
   "language": "python",
   "name": "python3"
  },
  "language_info": {
   "codemirror_mode": {
    "name": "ipython",
    "version": 3
   },
   "file_extension": ".py",
   "mimetype": "text/x-python",
   "name": "python",
   "nbconvert_exporter": "python",
   "pygments_lexer": "ipython3",
   "version": "3.7.6"
  }
 },
 "nbformat": 4,
 "nbformat_minor": 4
}
